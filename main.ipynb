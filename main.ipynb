{
 "cells": [
  {
   "cell_type": "code",
   "execution_count": null,
   "metadata": {},
   "outputs": [],
   "source": [
    "%pip install -r requirements.txt"
   ]
  },
  {
   "cell_type": "code",
   "execution_count": 15,
   "metadata": {},
   "outputs": [],
   "source": [
    "from Model import logger\n",
    "from Model.pipeline.stage_01_data_ingestion import DataIngestionTrainingPipeline\n",
    "from Model.pipeline.stage_02_data_validation import DataValidationTrainingPipeline\n",
    "from Model.pipeline.stage_03_data_transformation import DataTransformationTrainingPipeline\n",
    "from Model.pipeline.stage_04_model_trainer import ModelTrainerTrainingPipeline\n",
    "from Model.pipeline.stage_05_model_evaluation import ModelEvaluationTrainingPipeline\n",
    "# import mlflow\n",
    "# from mlflow.tracking import MlflowClient\n"
   ]
  },
  {
   "cell_type": "code",
   "execution_count": 20,
   "metadata": {},
   "outputs": [
    {
     "name": "stdout",
     "output_type": "stream",
     "text": [
      "[2024-03-21 01:13:55,611: INFO: 2612478329: >>>>>> stage Data Ingestion stage started <<<<<<]\n",
      "[2024-03-21 01:13:55,618: INFO: common: yaml file: config/config.yaml loaded successfully]\n",
      "[2024-03-21 01:13:55,621: INFO: common: yaml file: config/params.yaml loaded successfully]\n",
      "[2024-03-21 01:13:55,626: INFO: common: yaml file: config/schema.yaml loaded successfully]\n",
      "[2024-03-21 01:13:55,628: INFO: common: created directory at: artifacts]\n",
      "[2024-03-21 01:13:55,630: INFO: common: created directory at: artifacts/data_ingestion]\n",
      "[2024-03-21 01:13:55,632: INFO: data_ingestion: File already exists of size: ~ 23 KB]\n",
      "[2024-03-21 01:13:55,635: INFO: 2612478329: >>>>>> stage Data Ingestion stage completed <<<<<<\n",
      "\n",
      "x==========x]\n"
     ]
    }
   ],
   "source": [
    "STAGE_NAME = \"Data Ingestion stage\"\n",
    "try:\n",
    "   logger.info(f\">>>>>> stage {STAGE_NAME} started <<<<<<\") \n",
    "   data_ingestion = DataIngestionTrainingPipeline()\n",
    "   data_ingestion.main()\n",
    "   logger.info(f\">>>>>> stage {STAGE_NAME} completed <<<<<<\\n\\nx==========x\")\n",
    "except Exception as e:\n",
    "        logger.exception(e)\n",
    "        raise e"
   ]
  },
  {
   "cell_type": "code",
   "execution_count": null,
   "metadata": {},
   "outputs": [],
   "source": [
    "STAGE_NAME = \"Data Validation stage\"\n",
    "try:\n",
    "   logger.info(f\">>>>>> stage {STAGE_NAME} started <<<<<<\") \n",
    "   data_ingestion = DataValidationTrainingPipeline()\n",
    "   data_ingestion.main()\n",
    "   logger.info(f\">>>>>> stage {STAGE_NAME} completed <<<<<<\\n\\nx==========x\")\n",
    "except Exception as e:\n",
    "        logger.exception(e)\n",
    "        raise e"
   ]
  },
  {
   "cell_type": "code",
   "execution_count": null,
   "metadata": {},
   "outputs": [],
   "source": [
    "STAGE_NAME = \"Data Transformation stage\"\n",
    "try:\n",
    "   logger.info(f\">>>>>> stage {STAGE_NAME} started <<<<<<\") \n",
    "   data_ingestion = DataTransformationTrainingPipeline()\n",
    "   data_ingestion.main()\n",
    "   logger.info(f\">>>>>> stage {STAGE_NAME} completed <<<<<<\\n\\nx==========x\")\n",
    "except Exception as e:\n",
    "        logger.exception(e)\n",
    "        raise e\n"
   ]
  },
  {
   "cell_type": "code",
   "execution_count": null,
   "metadata": {},
   "outputs": [],
   "source": [
    "STAGE_NAME = \"Model Trainer stage\"\n",
    "try:\n",
    "   logger.info(f\">>>>>> stage {STAGE_NAME} started <<<<<<\") \n",
    "   data_ingestion = ModelTrainerTrainingPipeline()\n",
    "   data_ingestion.main()\n",
    "   logger.info(f\">>>>>> stage {STAGE_NAME} completed <<<<<<\\n\\nx==========x\")\n",
    "except Exception as e:\n",
    "        logger.exception(e)\n",
    "        raise e"
   ]
  },
  {
   "cell_type": "code",
   "execution_count": null,
   "metadata": {},
   "outputs": [],
   "source": [
    "# STAGE_NAME = \"Model evaluation stage\"\n",
    "# try:\n",
    "#    logger.info(f\">>>>>> stage {STAGE_NAME} started <<<<<<\") \n",
    "#    data_ingestion = ModelEvaluationTrainingPipeline()\n",
    "#    data_ingestion.main()\n",
    "#    logger.info(f\">>>>>> stage {STAGE_NAME} completed <<<<<<\\n\\nx==========x\")\n",
    "# except Exception as e:\n",
    "#         logger.exception(e)\n",
    "#         raise e"
   ]
  },
  {
   "cell_type": "code",
   "execution_count": null,
   "metadata": {},
   "outputs": [],
   "source": []
  }
 ],
 "metadata": {
  "kernelspec": {
   "display_name": "Python 3",
   "language": "python",
   "name": "python3"
  },
  "language_info": {
   "codemirror_mode": {
    "name": "ipython",
    "version": 3
   },
   "file_extension": ".py",
   "mimetype": "text/x-python",
   "name": "python",
   "nbconvert_exporter": "python",
   "pygments_lexer": "ipython3",
   "version": "3.10.12"
  }
 },
 "nbformat": 4,
 "nbformat_minor": 2
}
